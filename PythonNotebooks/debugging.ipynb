{
 "metadata": {
  "name": "debugging"
 }, 
 "nbformat": 2, 
 "worksheets": [
  {
   "cells": [
    {
     "cell_type": "code", 
     "collapsed": false, 
     "input": [
      "from VcfFile import *", 
      "vcfh=open('filter.vcf','r')", 
      "vcfobj=VcfFile('filter.vcf')", 
      "vcfobj.parseMetaAndHeaderLines(vcfh)", 
      "header=vcfobj.returnHeader() +\"\\n\"", 
      "samplelist=vcfobj.getSampleList()", 
      "affecteds=[] # list of affected samples", 
      "unaffecteds=[] # list of unaffected samples", 
      "affectedfh=open('affecteds.txt', 'r')", 
      "for line in affectedfh:", 
      "    affecteds.append(line.strip() )", 
      "    ", 
      "unaffectedfh=open ('unaffecteds.txt', 'r')", 
      "for line in unaffectedfh:", 
      "    unaffecteds.append ( line.strip() )", 
      "", 
      "if len( list( set(unaffecteds).intersection( set(affecteds) ) )  ) != 0:", 
      "    sys.stderr.write(\"check list of affected and unaffecteds for overlapping samples!\\n\")", 
      "    exit(1)", 
      "print samplelist"
     ], 
     "language": "python", 
     "outputs": [
      {
       "output_type": "stream", 
       "stream": "stdout", 
       "text": [
        "['Olivier_3_4', 'Olivier_3_5', 'Olivier_4_22', 'Olivier_5_22', 'Olivier_4_16', 'Olivier_5_26']"
       ]
      }
     ], 
     "prompt_number": 1
    }, 
    {
     "cell_type": "code", 
     "collapsed": true, 
     "input": [
      "foo=[('Olivier_3_4', '.', False), ('Olivier_4_22', '1/1:77.8523:6:0:0:6:176:-16.1333,-1.80618,0', True), ('Olivier_5_22', '1/1:70.9821:1:0:0:1:25:-2.5,-0.30103,0', True), ('Olivier_4_16', '1/1:74.842:5:0:0:5:143:-13.156,-1.50515,0', True), ('Olivier_5_26', '1/1:80.8626:7:0:0:7:203:-18.56,-2.10721,0', True)]", 
      "bar=[('Olivier_3_5', '1/1:77.8523:6:0:0:6:174:-15.95,-1.80618,0', True)]"
     ], 
     "language": "python", 
     "outputs": [], 
     "prompt_number": 35
    }, 
    {
     "cell_type": "code", 
     "collapsed": false, 
     "input": [
      "print [ tpl[2] == True for tpl in foo ].count(True)", 
      "print [ tpl[2] == False for tpl in bar ].count(True)"
     ], 
     "language": "python", 
     "outputs": [
      {
       "output_type": "stream", 
       "stream": "stdout", 
       "text": [
        "4", 
        "0"
       ]
      }
     ], 
     "prompt_number": 36
    }, 
    {
     "cell_type": "code", 
     "collapsed": true, 
     "input": [
      "\"\"\" test out the python interface to tabix", 
      "based on code in ~/tabix-0.2.6/python", 
      "thank you, Hyeshik Chang! <hyeshik@snu.ac.kr>\"\"\"", 
      "import gzip", 
      "import tabix", 
      "import random", 
      "import unittest", 
      "def tbresult2excerpt(tbmatches):", 
      "    return [fields[:7] for fields in tbmatches]", 
      "def does_overlap(A, B, C, D):", 
      "    return (A <= D <= B) or (C <= B <= D)", 
      "def sample_test_dataset(regions, ntests):", 
      "    seqids = [seqid for seqid, _, _, _ in regions]", 
      "    lowerbound = max(0, min(begin for _, begin, _, _ in regions) - 1000)", 
      "    upperbound = max(end for _, _, end, _ in regions) + 1000", 
      "", 
      "    tests = []", 
      "    for i in range(ntests):", 
      "        seqid = random.choice(seqids)", 
      "        low = random.randrange(lowerbound, upperbound)", 
      "        high = random.randrange(low, upperbound)", 
      "", 
      "        # for 1-based both-end inclusive intervals", 
      "        matches = [info for seq, begin, end, info in regions", 
      "                   if seqid == seq and does_overlap(begin, end, low, high)]", 
      "", 
      "        tests.append((seqid, low, high, matches))", 
      "", 
      "    return tests", 
      "", 
      "#test file for python tabix api", 
      "EXAMPLEFILE='/Users/amit/software/tabix-0.2.6/example.gtf.gz'", 
      "", 
      "#load some sample intervals", 
      "alldata = []", 
      "for line in gzip.GzipFile(EXAMPLEFILE):", 
      "    fields = line.decode('ascii')[:-1].split('\\t')", 
      "    seqid = fields[0]", 
      "    begin = int(fields[3])", 
      "    end = int(fields[4])", 
      "    alldata.append((seqid, begin, end, fields[:7]))", 
      "#print alldata", 
      "testset=sample_test_dataset(alldata, 500)", 
      "", 
      "tb = tabix.Tabix(EXAMPLEFILE)", 
      "", 
      "", 
      "#for seqid, low, high, matches in testset:", 
      "#    print seqid, low, high", 
      "#    for fields in  tb.query(seqid, low, high):", 
      "#        print fields", 
      "#    print \"==\"", 
      "    ", 
      "#for seqid, low, high, matches in testset:", 
      "    #query you pass it a chrome/id, start, end", 
      "#    tbresult=tbresult2excerpt(tb.querys( '%s:%d-%d' % (seqid, low, high)))", 
      "    ", 
      "#    print tbresult", 
      "#    print \"--\"", 
      "    "
     ], 
     "language": "python", 
     "outputs": [], 
     "prompt_number": 1
    }, 
    {
     "cell_type": "code", 
     "collapsed": false, 
     "input": [
      "import itertools", 
      "import gzip", 
      "import tabix", 
      "from VcfFile import *", 
      "CATALOGFILE='22-1409-CEU.vcf.gz'", 
      "QUERYFILE='filter.vcf.gz'", 
      "", 
      "", 
      "tb_cat = tabix.Tabix(CATALOGFILE)", 
      "tb_query=tabix.Tabix(QUERYFILE)", 
      "", 
      "chroms=['22']", 
      "sizes=[ 51304566 ]", 
      "", 
      "for chr, size in itertools.izip(chroms, sizes):", 
      "    print chr, size", 
      "    query_results = [ fields for fields in tb_query.query(chr, 1, size) ]", 
      "    catalog_results = [ fields for fields in tb_cat.query(chr, 1, size) ]", 
      "    #can we make an interval tree for the catalog results?", 
      "    print len(query_results)", 
      "    print len(catalog_results)"
     ], 
     "language": "python", 
     "outputs": [
      {
       "output_type": "stream", 
       "stream": "stdout", 
       "text": [
        "22 51304566", 
        "1543"
       ]
      }, 
      {
       "output_type": "stream", 
       "stream": "stdout", 
       "text": [
        "", 
        "36915"
       ]
      }
     ], 
     "prompt_number": 17
    }, 
    {
     "cell_type": "code", 
     "collapsed": true, 
     "input": [], 
     "language": "python", 
     "outputs": []
    }
   ]
  }
 ]
}